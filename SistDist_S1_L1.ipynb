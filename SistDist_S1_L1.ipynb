{
  "nbformat": 4,
  "nbformat_minor": 0,
  "metadata": {
    "colab": {
      "name": "SistDist_S1_L1.ipynb",
      "version": "0.3.2",
      "provenance": [],
      "include_colab_link": true
    },
    "kernelspec": {
      "name": "python3",
      "display_name": "Python 3"
    }
  },
  "cells": [
    {
      "cell_type": "markdown",
      "metadata": {
        "id": "view-in-github",
        "colab_type": "text"
      },
      "source": [
        "<a href=\"https://colab.research.google.com/github/ginnaRenz/SistDist2/blob/master/SistDist_S1_L1.ipynb\" target=\"_parent\"><img src=\"https://colab.research.google.com/assets/colab-badge.svg\" alt=\"Open In Colab\"/></a>"
      ]
    },
    {
      "cell_type": "code",
      "metadata": {
        "id": "1sOn5P9FV5tb",
        "colab_type": "code",
        "colab": {}
      },
      "source": [
        "import psutil, os"
      ],
      "execution_count": 0,
      "outputs": []
    },
    {
      "cell_type": "code",
      "metadata": {
        "id": "QXGIoQJ0WgRJ",
        "colab_type": "code",
        "colab": {}
      },
      "source": [
        "def huella_de_memoria():\n",
        "  '''Regresa la memoria usada por un proceso en Python'''\n",
        "  mem = psutil.Process(os.getpid()).memory_info().rss\n",
        "  return(mem / 1024**2)"
      ],
      "execution_count": 0,
      "outputs": []
    },
    {
      "cell_type": "code",
      "metadata": {
        "id": "6EB3MviJXMhZ",
        "colab_type": "code",
        "colab": {}
      },
      "source": [
        "antes = huella_de_memoria()"
      ],
      "execution_count": 0,
      "outputs": []
    },
    {
      "cell_type": "code",
      "metadata": {
        "id": "7GndkUQjW1Gn",
        "colab_type": "code",
        "colab": {}
      },
      "source": [
        "import numpy as np"
      ],
      "execution_count": 0,
      "outputs": []
    },
    {
      "cell_type": "markdown",
      "metadata": {
        "id": "ws8IX3viXTAn",
        "colab_type": "text"
      },
      "source": [
        "N abajo es el número de valores de punto flotante que llena 1MB"
      ]
    },
    {
      "cell_type": "code",
      "metadata": {
        "id": "tbKFikwYXi8U",
        "colab_type": "code",
        "colab": {}
      },
      "source": [
        "N= (1024**2)//8"
      ],
      "execution_count": 0,
      "outputs": []
    },
    {
      "cell_type": "code",
      "metadata": {
        "id": "Q_do4_fAXn8c",
        "colab_type": "code",
        "colab": {}
      },
      "source": [
        "x = np.random.rand(50*N)"
      ],
      "execution_count": 0,
      "outputs": []
    },
    {
      "cell_type": "code",
      "metadata": {
        "id": "TJF4J5kVX9Dn",
        "colab_type": "code",
        "colab": {}
      },
      "source": [
        "despues = huella_de_memoria()"
      ],
      "execution_count": 0,
      "outputs": []
    },
    {
      "cell_type": "code",
      "metadata": {
        "id": "ZuQXkZ4_aUK_",
        "colab_type": "code",
        "colab": {}
      },
      "source": [
        ""
      ],
      "execution_count": 0,
      "outputs": []
    },
    {
      "cell_type": "code",
      "metadata": {
        "id": "bXeKPoLOYCdf",
        "colab_type": "code",
        "colab": {
          "base_uri": "https://localhost:8080/",
          "height": 34
        },
        "outputId": "768e5209-c3ae-4e7c-91da-d352733398de"
      },
      "source": [
        "print(antes)"
      ],
      "execution_count": 16,
      "outputs": [
        {
          "output_type": "stream",
          "text": [
            "114.66796875\n"
          ],
          "name": "stdout"
        }
      ]
    },
    {
      "cell_type": "code",
      "metadata": {
        "id": "ZflM9bLAYEXQ",
        "colab_type": "code",
        "colab": {
          "base_uri": "https://localhost:8080/",
          "height": 34
        },
        "outputId": "5bb5d841-723f-4a02-ca8e-b31661c9aa1a"
      },
      "source": [
        "print(despues)"
      ],
      "execution_count": 17,
      "outputs": [
        {
          "output_type": "stream",
          "text": [
            "164.84765625\n"
          ],
          "name": "stdout"
        }
      ]
    },
    {
      "cell_type": "code",
      "metadata": {
        "id": "CL_D2maNY9Nm",
        "colab_type": "code",
        "colab": {
          "base_uri": "https://localhost:8080/",
          "height": 34
        },
        "outputId": "40976f99-293c-499e-ffc1-762a49dd8e5f"
      },
      "source": [
        "print(despues-antes)"
      ],
      "execution_count": 18,
      "outputs": [
        {
          "output_type": "stream",
          "text": [
            "50.1796875\n"
          ],
          "name": "stdout"
        }
      ]
    },
    {
      "cell_type": "code",
      "metadata": {
        "id": "bUkBsCsVZITc",
        "colab_type": "code",
        "colab": {}
      },
      "source": [
        "antes = huella_de_memoria()"
      ],
      "execution_count": 0,
      "outputs": []
    },
    {
      "cell_type": "code",
      "metadata": {
        "id": "76PG0T3_ZKwu",
        "colab_type": "code",
        "colab": {
          "base_uri": "https://localhost:8080/",
          "height": 50
        },
        "outputId": "fe38815c-1fd2-4c78-dfca-ab8ca523b5c0"
      },
      "source": [
        "x**2"
      ],
      "execution_count": 20,
      "outputs": [
        {
          "output_type": "execute_result",
          "data": {
            "text/plain": [
              "array([0.4024396 , 0.62219624, 0.00222562, ..., 0.74589142, 0.1727573 ,\n",
              "       0.17097103])"
            ]
          },
          "metadata": {
            "tags": []
          },
          "execution_count": 20
        }
      ]
    },
    {
      "cell_type": "code",
      "metadata": {
        "id": "S4F2SsfHZMaU",
        "colab_type": "code",
        "colab": {
          "base_uri": "https://localhost:8080/",
          "height": 34
        },
        "outputId": "54a535be-49ca-4dd4-d4a9-3867655b6dbb"
      },
      "source": [
        "despues= huella_de_memoria()\n",
        "print(despues-antes)"
      ],
      "execution_count": 21,
      "outputs": [
        {
          "output_type": "stream",
          "text": [
            "50.34765625\n"
          ],
          "name": "stdout"
        }
      ]
    },
    {
      "cell_type": "code",
      "metadata": {
        "id": "1AeKsclbZq2e",
        "colab_type": "code",
        "colab": {
          "base_uri": "https://localhost:8080/",
          "height": 34
        },
        "outputId": "ddeba9f4-c045-46ef-f6b9-1b32c25dd52d"
      },
      "source": [
        "x.nbytes//(1024**2)"
      ],
      "execution_count": 22,
      "outputs": [
        {
          "output_type": "execute_result",
          "data": {
            "text/plain": [
              "50"
            ]
          },
          "metadata": {
            "tags": []
          },
          "execution_count": 22
        }
      ]
    },
    {
      "cell_type": "code",
      "metadata": {
        "id": "xuAlVkLlaWSN",
        "colab_type": "code",
        "colab": {}
      },
      "source": [
        "import pandas as pd"
      ],
      "execution_count": 0,
      "outputs": []
    },
    {
      "cell_type": "code",
      "metadata": {
        "id": "QJa3InWYaYPt",
        "colab_type": "code",
        "colab": {}
      },
      "source": [
        "df = pd.DataFrame(x)\n",
        "df\n"
      ],
      "execution_count": 0,
      "outputs": []
    },
    {
      "cell_type": "code",
      "metadata": {
        "id": "CfuFgeTKa3J_",
        "colab_type": "code",
        "colab": {
          "base_uri": "https://localhost:8080/",
          "height": 50
        },
        "outputId": "b5efa695-aa57-4a5e-95f9-18614c3fc4b3"
      },
      "source": [
        "dfdf = pd.DataFrame(x)\n",
        "df"
      ],
      "execution_count": 26,
      "outputs": [
        {
          "output_type": "execute_result",
          "data": {
            "text/plain": [
              "0    50.0\n",
              "dtype: float64"
            ]
          },
          "metadata": {
            "tags": []
          },
          "execution_count": 26
        }
      ]
    },
    {
      "cell_type": "markdown",
      "metadata": {
        "id": "4kmzhR5Tba5_",
        "colab_type": "text"
      },
      "source": [
        "## Ejercicio\n",
        "Reportar el uso de memoria de la siguiente estructura:\n",
        "1. memoria del arreglo `celsius`\n",
        "2. memoria total en MB del proceso _antes_ de realizar la operación en 3\n",
        "3. convertir 'celsius' a `fahrenheit` `9/5celsius + 32`\n",
        "4. indicar la diferencia de memoria _despues_ de la operación\n",
        "5. cual es la memoria del arreglo `fahrenheit` (sin usar el método)\n",
        "6- cual es la memoria del arreglo?"
      ]
    },
    {
      "cell_type": "code",
      "metadata": {
        "id": "c8e3e8rtdr1b",
        "colab_type": "code",
        "colab": {}
      },
      "source": [
        "import pandas as pd"
      ],
      "execution_count": 0,
      "outputs": []
    },
    {
      "cell_type": "code",
      "metadata": {
        "id": "KT33YzBEcPNd",
        "colab_type": "code",
        "colab": {}
      },
      "source": [
        "celsius = np.arange(-4.,0.,4/366000)\n",
        "\n"
      ],
      "execution_count": 0,
      "outputs": []
    },
    {
      "cell_type": "code",
      "metadata": {
        "id": "N5NwrfWZeghy",
        "colab_type": "code",
        "colab": {
          "base_uri": "https://localhost:8080/",
          "height": 1882
        },
        "outputId": "5c9cbfc2-8b32-4888-a6fa-52383372b3e7"
      },
      "source": [
        "df = pd.DataFrame(celsius)\n",
        "df"
      ],
      "execution_count": 57,
      "outputs": [
        {
          "output_type": "execute_result",
          "data": {
            "text/html": [
              "<div>\n",
              "<style scoped>\n",
              "    .dataframe tbody tr th:only-of-type {\n",
              "        vertical-align: middle;\n",
              "    }\n",
              "\n",
              "    .dataframe tbody tr th {\n",
              "        vertical-align: top;\n",
              "    }\n",
              "\n",
              "    .dataframe thead th {\n",
              "        text-align: right;\n",
              "    }\n",
              "</style>\n",
              "<table border=\"1\" class=\"dataframe\">\n",
              "  <thead>\n",
              "    <tr style=\"text-align: right;\">\n",
              "      <th></th>\n",
              "      <th>0</th>\n",
              "    </tr>\n",
              "  </thead>\n",
              "  <tbody>\n",
              "    <tr>\n",
              "      <th>0</th>\n",
              "      <td>-4.000000</td>\n",
              "    </tr>\n",
              "    <tr>\n",
              "      <th>1</th>\n",
              "      <td>-3.999989</td>\n",
              "    </tr>\n",
              "    <tr>\n",
              "      <th>2</th>\n",
              "      <td>-3.999978</td>\n",
              "    </tr>\n",
              "    <tr>\n",
              "      <th>3</th>\n",
              "      <td>-3.999967</td>\n",
              "    </tr>\n",
              "    <tr>\n",
              "      <th>4</th>\n",
              "      <td>-3.999956</td>\n",
              "    </tr>\n",
              "    <tr>\n",
              "      <th>5</th>\n",
              "      <td>-3.999945</td>\n",
              "    </tr>\n",
              "    <tr>\n",
              "      <th>6</th>\n",
              "      <td>-3.999934</td>\n",
              "    </tr>\n",
              "    <tr>\n",
              "      <th>7</th>\n",
              "      <td>-3.999923</td>\n",
              "    </tr>\n",
              "    <tr>\n",
              "      <th>8</th>\n",
              "      <td>-3.999913</td>\n",
              "    </tr>\n",
              "    <tr>\n",
              "      <th>9</th>\n",
              "      <td>-3.999902</td>\n",
              "    </tr>\n",
              "    <tr>\n",
              "      <th>10</th>\n",
              "      <td>-3.999891</td>\n",
              "    </tr>\n",
              "    <tr>\n",
              "      <th>11</th>\n",
              "      <td>-3.999880</td>\n",
              "    </tr>\n",
              "    <tr>\n",
              "      <th>12</th>\n",
              "      <td>-3.999869</td>\n",
              "    </tr>\n",
              "    <tr>\n",
              "      <th>13</th>\n",
              "      <td>-3.999858</td>\n",
              "    </tr>\n",
              "    <tr>\n",
              "      <th>14</th>\n",
              "      <td>-3.999847</td>\n",
              "    </tr>\n",
              "    <tr>\n",
              "      <th>15</th>\n",
              "      <td>-3.999836</td>\n",
              "    </tr>\n",
              "    <tr>\n",
              "      <th>16</th>\n",
              "      <td>-3.999825</td>\n",
              "    </tr>\n",
              "    <tr>\n",
              "      <th>17</th>\n",
              "      <td>-3.999814</td>\n",
              "    </tr>\n",
              "    <tr>\n",
              "      <th>18</th>\n",
              "      <td>-3.999803</td>\n",
              "    </tr>\n",
              "    <tr>\n",
              "      <th>19</th>\n",
              "      <td>-3.999792</td>\n",
              "    </tr>\n",
              "    <tr>\n",
              "      <th>20</th>\n",
              "      <td>-3.999781</td>\n",
              "    </tr>\n",
              "    <tr>\n",
              "      <th>21</th>\n",
              "      <td>-3.999770</td>\n",
              "    </tr>\n",
              "    <tr>\n",
              "      <th>22</th>\n",
              "      <td>-3.999760</td>\n",
              "    </tr>\n",
              "    <tr>\n",
              "      <th>23</th>\n",
              "      <td>-3.999749</td>\n",
              "    </tr>\n",
              "    <tr>\n",
              "      <th>24</th>\n",
              "      <td>-3.999738</td>\n",
              "    </tr>\n",
              "    <tr>\n",
              "      <th>25</th>\n",
              "      <td>-3.999727</td>\n",
              "    </tr>\n",
              "    <tr>\n",
              "      <th>26</th>\n",
              "      <td>-3.999716</td>\n",
              "    </tr>\n",
              "    <tr>\n",
              "      <th>27</th>\n",
              "      <td>-3.999705</td>\n",
              "    </tr>\n",
              "    <tr>\n",
              "      <th>28</th>\n",
              "      <td>-3.999694</td>\n",
              "    </tr>\n",
              "    <tr>\n",
              "      <th>29</th>\n",
              "      <td>-3.999683</td>\n",
              "    </tr>\n",
              "    <tr>\n",
              "      <th>...</th>\n",
              "      <td>...</td>\n",
              "    </tr>\n",
              "    <tr>\n",
              "      <th>365970</th>\n",
              "      <td>-0.000328</td>\n",
              "    </tr>\n",
              "    <tr>\n",
              "      <th>365971</th>\n",
              "      <td>-0.000317</td>\n",
              "    </tr>\n",
              "    <tr>\n",
              "      <th>365972</th>\n",
              "      <td>-0.000306</td>\n",
              "    </tr>\n",
              "    <tr>\n",
              "      <th>365973</th>\n",
              "      <td>-0.000295</td>\n",
              "    </tr>\n",
              "    <tr>\n",
              "      <th>365974</th>\n",
              "      <td>-0.000284</td>\n",
              "    </tr>\n",
              "    <tr>\n",
              "      <th>365975</th>\n",
              "      <td>-0.000273</td>\n",
              "    </tr>\n",
              "    <tr>\n",
              "      <th>365976</th>\n",
              "      <td>-0.000262</td>\n",
              "    </tr>\n",
              "    <tr>\n",
              "      <th>365977</th>\n",
              "      <td>-0.000251</td>\n",
              "    </tr>\n",
              "    <tr>\n",
              "      <th>365978</th>\n",
              "      <td>-0.000240</td>\n",
              "    </tr>\n",
              "    <tr>\n",
              "      <th>365979</th>\n",
              "      <td>-0.000230</td>\n",
              "    </tr>\n",
              "    <tr>\n",
              "      <th>365980</th>\n",
              "      <td>-0.000219</td>\n",
              "    </tr>\n",
              "    <tr>\n",
              "      <th>365981</th>\n",
              "      <td>-0.000208</td>\n",
              "    </tr>\n",
              "    <tr>\n",
              "      <th>365982</th>\n",
              "      <td>-0.000197</td>\n",
              "    </tr>\n",
              "    <tr>\n",
              "      <th>365983</th>\n",
              "      <td>-0.000186</td>\n",
              "    </tr>\n",
              "    <tr>\n",
              "      <th>365984</th>\n",
              "      <td>-0.000175</td>\n",
              "    </tr>\n",
              "    <tr>\n",
              "      <th>365985</th>\n",
              "      <td>-0.000164</td>\n",
              "    </tr>\n",
              "    <tr>\n",
              "      <th>365986</th>\n",
              "      <td>-0.000153</td>\n",
              "    </tr>\n",
              "    <tr>\n",
              "      <th>365987</th>\n",
              "      <td>-0.000142</td>\n",
              "    </tr>\n",
              "    <tr>\n",
              "      <th>365988</th>\n",
              "      <td>-0.000131</td>\n",
              "    </tr>\n",
              "    <tr>\n",
              "      <th>365989</th>\n",
              "      <td>-0.000120</td>\n",
              "    </tr>\n",
              "    <tr>\n",
              "      <th>365990</th>\n",
              "      <td>-0.000109</td>\n",
              "    </tr>\n",
              "    <tr>\n",
              "      <th>365991</th>\n",
              "      <td>-0.000098</td>\n",
              "    </tr>\n",
              "    <tr>\n",
              "      <th>365992</th>\n",
              "      <td>-0.000087</td>\n",
              "    </tr>\n",
              "    <tr>\n",
              "      <th>365993</th>\n",
              "      <td>-0.000077</td>\n",
              "    </tr>\n",
              "    <tr>\n",
              "      <th>365994</th>\n",
              "      <td>-0.000066</td>\n",
              "    </tr>\n",
              "    <tr>\n",
              "      <th>365995</th>\n",
              "      <td>-0.000055</td>\n",
              "    </tr>\n",
              "    <tr>\n",
              "      <th>365996</th>\n",
              "      <td>-0.000044</td>\n",
              "    </tr>\n",
              "    <tr>\n",
              "      <th>365997</th>\n",
              "      <td>-0.000033</td>\n",
              "    </tr>\n",
              "    <tr>\n",
              "      <th>365998</th>\n",
              "      <td>-0.000022</td>\n",
              "    </tr>\n",
              "    <tr>\n",
              "      <th>365999</th>\n",
              "      <td>-0.000011</td>\n",
              "    </tr>\n",
              "  </tbody>\n",
              "</table>\n",
              "<p>366000 rows × 1 columns</p>\n",
              "</div>"
            ],
            "text/plain": [
              "               0\n",
              "0      -4.000000\n",
              "1      -3.999989\n",
              "2      -3.999978\n",
              "3      -3.999967\n",
              "4      -3.999956\n",
              "5      -3.999945\n",
              "6      -3.999934\n",
              "7      -3.999923\n",
              "8      -3.999913\n",
              "9      -3.999902\n",
              "10     -3.999891\n",
              "11     -3.999880\n",
              "12     -3.999869\n",
              "13     -3.999858\n",
              "14     -3.999847\n",
              "15     -3.999836\n",
              "16     -3.999825\n",
              "17     -3.999814\n",
              "18     -3.999803\n",
              "19     -3.999792\n",
              "20     -3.999781\n",
              "21     -3.999770\n",
              "22     -3.999760\n",
              "23     -3.999749\n",
              "24     -3.999738\n",
              "25     -3.999727\n",
              "26     -3.999716\n",
              "27     -3.999705\n",
              "28     -3.999694\n",
              "29     -3.999683\n",
              "...          ...\n",
              "365970 -0.000328\n",
              "365971 -0.000317\n",
              "365972 -0.000306\n",
              "365973 -0.000295\n",
              "365974 -0.000284\n",
              "365975 -0.000273\n",
              "365976 -0.000262\n",
              "365977 -0.000251\n",
              "365978 -0.000240\n",
              "365979 -0.000230\n",
              "365980 -0.000219\n",
              "365981 -0.000208\n",
              "365982 -0.000197\n",
              "365983 -0.000186\n",
              "365984 -0.000175\n",
              "365985 -0.000164\n",
              "365986 -0.000153\n",
              "365987 -0.000142\n",
              "365988 -0.000131\n",
              "365989 -0.000120\n",
              "365990 -0.000109\n",
              "365991 -0.000098\n",
              "365992 -0.000087\n",
              "365993 -0.000077\n",
              "365994 -0.000066\n",
              "365995 -0.000055\n",
              "365996 -0.000044\n",
              "365997 -0.000033\n",
              "365998 -0.000022\n",
              "365999 -0.000011\n",
              "\n",
              "[366000 rows x 1 columns]"
            ]
          },
          "metadata": {
            "tags": []
          },
          "execution_count": 57
        }
      ]
    },
    {
      "cell_type": "code",
      "metadata": {
        "id": "AZvhGhWwdJ6N",
        "colab_type": "code",
        "colab": {
          "base_uri": "https://localhost:8080/",
          "height": 50
        },
        "outputId": "834dacc7-25d8-4f34-ff1b-338ac4a2039e"
      },
      "source": [
        "df.memory_usage(index = False)/(1024**2)"
      ],
      "execution_count": 45,
      "outputs": [
        {
          "output_type": "execute_result",
          "data": {
            "text/plain": [
              "0    2.792358\n",
              "dtype: float64"
            ]
          },
          "metadata": {
            "tags": []
          },
          "execution_count": 45
        }
      ]
    },
    {
      "cell_type": "code",
      "metadata": {
        "id": "NRIgtq0Le07b",
        "colab_type": "code",
        "colab": {
          "base_uri": "https://localhost:8080/",
          "height": 34
        },
        "outputId": "a6a9148c-e634-4934-a924-a0eb039d2de9"
      },
      "source": [
        "celsius.nbytes/(1024**2)"
      ],
      "execution_count": 60,
      "outputs": [
        {
          "output_type": "execute_result",
          "data": {
            "text/plain": [
              "2.7923583984375"
            ]
          },
          "metadata": {
            "tags": []
          },
          "execution_count": 60
        }
      ]
    },
    {
      "cell_type": "code",
      "metadata": {
        "id": "O8ZF18CVe8GE",
        "colab_type": "code",
        "colab": {
          "base_uri": "https://localhost:8080/",
          "height": 34
        },
        "outputId": "0cc114d9-e7c9-4209-ec27-28bbf1775329"
      },
      "source": [
        "antes = huella_de_memoria()\n",
        "fahrenheit = 32+celsius*9/5\n",
        "despues = huella_de_memoria()\n",
        "print(despues-antes)"
      ],
      "execution_count": 61,
      "outputs": [
        {
          "output_type": "stream",
          "text": [
            "2.83203125\n"
          ],
          "name": "stdout"
        }
      ]
    },
    {
      "cell_type": "markdown",
      "metadata": {
        "id": "rrSG2pSOfwEv",
        "colab_type": "text"
      },
      "source": [
        "repetir en entorno de ejecución local\n",
        "tabla comparativa de la diferencia con la de google"
      ]
    },
    {
      "cell_type": "code",
      "metadata": {
        "id": "zoU_DQ57fbWv",
        "colab_type": "code",
        "colab": {
          "base_uri": "https://localhost:8080/",
          "height": 34
        },
        "outputId": "d94158b5-38bd-4a83-efaf-b250ba8011c6"
      },
      "source": [
        "fahrenheit.nbytes/(1024**2)"
      ],
      "execution_count": 62,
      "outputs": [
        {
          "output_type": "execute_result",
          "data": {
            "text/plain": [
              "2.7923583984375"
            ]
          },
          "metadata": {
            "tags": []
          },
          "execution_count": 62
        }
      ]
    },
    {
      "cell_type": "code",
      "metadata": {
        "id": "awSGkl0-gr8K",
        "colab_type": "code",
        "colab": {}
      },
      "source": [
        ""
      ],
      "execution_count": 0,
      "outputs": []
    }
  ]
}